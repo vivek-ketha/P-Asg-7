{
 "cells": [
  {
   "cell_type": "code",
   "execution_count": 1,
   "id": "083c40a4",
   "metadata": {},
   "outputs": [
    {
     "name": "stdout",
     "output_type": "stream",
     "text": [
      "Sum of the array is  34\n"
     ]
    }
   ],
   "source": [
    "#1\n",
    "# Python 3 code to find sum\n",
    "# of elements in given array\n",
    "def _sum(arr):\n",
    "\t\n",
    "\t# initialize a variable\n",
    "\t# to store the sum\n",
    "\t# while iterating through\n",
    "\t# the array later\n",
    "\tsum=0\n",
    "\t\n",
    "\t# iterate through the array\n",
    "\t# and add each element to the sum variable\n",
    "\t# one at a time\n",
    "\tfor i in arr:\n",
    "\t\tsum = sum + i\n",
    "\t\t\n",
    "\treturn(sum)\n",
    "\n",
    "# driver function\n",
    "arr=[]\n",
    "# input values to list\n",
    "arr = [12, 3, 4, 15]\n",
    "\n",
    "# calculating length of array\n",
    "n = len(arr)\n",
    "\n",
    "ans = _sum(arr)\n",
    "\n",
    "# display sum\n",
    "print ('Sum of the array is ', ans)\n",
    "\n",
    "# This code is contributed by Himanshu Ranjan\n"
   ]
  },
  {
   "cell_type": "code",
   "execution_count": 2,
   "id": "986544e4",
   "metadata": {},
   "outputs": [
    {
     "name": "stdout",
     "output_type": "stream",
     "text": [
      "Largest in given array is 9808\n"
     ]
    }
   ],
   "source": [
    "#2\n",
    "# Python3 program to find maximum\n",
    "# in arr[] of size n\n",
    "\n",
    "# python function to find maximum\n",
    "# in arr[] of size n\n",
    "def largest(arr,n):\n",
    "\n",
    "\t# Initialize maximum element\n",
    "\tmax = arr[0]\n",
    "\n",
    "\t# Traverse array elements from second\n",
    "\t# and compare every element with\n",
    "\t# current max\n",
    "\tfor i in range(1, n):\n",
    "\t\tif arr[i] > max:\n",
    "\t\t\tmax = arr[i]\n",
    "\treturn max\n",
    "\n",
    "# Driver Code\n",
    "arr = [10, 324, 45, 90, 9808]\n",
    "n = len(arr)\n",
    "Ans = largest(arr,n)\n",
    "print (\"Largest in given array is\",Ans)\n",
    "\n",
    "# This code is contributed by Smitha Dinesh Semwal\n"
   ]
  },
  {
   "cell_type": "code",
   "execution_count": 3,
   "id": "bb36760c",
   "metadata": {},
   "outputs": [
    {
     "name": "stdout",
     "output_type": "stream",
     "text": [
      "Array after left rotation is:  [3, 4, 5, 6, 7, 1, 2]\n"
     ]
    }
   ],
   "source": [
    "#3\n",
    "# function to rotate array by d elements using temp array\n",
    "def rotateArray(arr, n, d):\n",
    "\ttemp = []\n",
    "\ti = 0\n",
    "\twhile (i < d):\n",
    "\t\ttemp.append(arr[i])\n",
    "\t\ti = i + 1\n",
    "\ti = 0\n",
    "\twhile (d < n):\n",
    "\t\tarr[i] = arr[d]\n",
    "\t\ti = i + 1\n",
    "\t\td = d + 1\n",
    "\tarr[:] = arr[: i] + temp\n",
    "\treturn arr\n",
    "\n",
    "\n",
    "# Driver function to test above function\n",
    "arr = [1, 2, 3, 4, 5, 6, 7]\n",
    "print(\"Array after left rotation is: \", end=' ')\n",
    "print(rotateArray(arr, len(arr), 2))\n",
    "\n",
    "# this code is contributed by Anabhra Tyagi\n"
   ]
  },
  {
   "cell_type": "code",
   "execution_count": 4,
   "id": "13fed382",
   "metadata": {},
   "outputs": [
    {
     "name": "stdout",
     "output_type": "stream",
     "text": [
      "5 6 52 36 12 10 "
     ]
    }
   ],
   "source": [
    "#4\n",
    "# Python program to split array and move first\n",
    "# part to end.\n",
    "\n",
    "def splitArr(arr, n, k):\n",
    "\tfor i in range(0, k):\n",
    "\t\tx = arr[0]\n",
    "\t\tfor j in range(0, n-1):\n",
    "\t\t\tarr[j] = arr[j + 1]\n",
    "\t\t\n",
    "\t\tarr[n-1] = x\n",
    "\t\t\n",
    "\n",
    "# main\n",
    "arr = [12, 10, 5, 6, 52, 36]\n",
    "n = len(arr)\n",
    "position = 2\n",
    "\n",
    "splitArr(arr, n, position)\n",
    "\n",
    "for i in range(0, n):\n",
    "\tprint(arr[i], end = ' ')\n",
    "\n",
    "# Code Contributed by Mohit Gupta_OMG <(0_o)>\n"
   ]
  },
  {
   "cell_type": "code",
   "execution_count": 5,
   "id": "0e5de873",
   "metadata": {},
   "outputs": [
    {
     "name": "stdout",
     "output_type": "stream",
     "text": [
      "True\n"
     ]
    }
   ],
   "source": [
    "#5\n",
    "# Python3 program to find sum in Nth group\n",
    "\n",
    "# Check if given array is Monotonic\n",
    "def isMonotonic(A):\n",
    "\n",
    "\treturn (all(A[i] <= A[i + 1] for i in range(len(A) - 1)) or\n",
    "\t\t\tall(A[i] >= A[i + 1] for i in range(len(A) - 1)))\n",
    "\n",
    "# Driver program\n",
    "A = [6, 5, 4, 4]\n",
    "\n",
    "# Print required result\n",
    "print(isMonotonic(A))\n",
    "\n",
    "# This code is written by\n",
    "# Sanjit_Prasad\n"
   ]
  },
  {
   "cell_type": "code",
   "execution_count": null,
   "id": "93ff51a9",
   "metadata": {},
   "outputs": [],
   "source": []
  }
 ],
 "metadata": {
  "kernelspec": {
   "display_name": "Python 3",
   "language": "python",
   "name": "python3"
  },
  "language_info": {
   "codemirror_mode": {
    "name": "ipython",
    "version": 3
   },
   "file_extension": ".py",
   "mimetype": "text/x-python",
   "name": "python",
   "nbconvert_exporter": "python",
   "pygments_lexer": "ipython3",
   "version": "3.8.8"
  }
 },
 "nbformat": 4,
 "nbformat_minor": 5
}
